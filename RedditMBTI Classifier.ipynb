{
 "cells": [
  {
   "cell_type": "code",
   "execution_count": 2,
   "metadata": {},
   "outputs": [],
   "source": [
    "import pandas as pd\n",
    "from fastai import *"
   ]
  },
  {
   "cell_type": "code",
   "execution_count": 21,
   "metadata": {},
   "outputs": [],
   "source": [
    "def load_data():\n",
    "    return pd.read_csv('mbti_subreddit_data.csv')\n",
    "\n",
    "# download_data()\n",
    "\n",
    "# load up saved data\n",
    "subreddit_df = load_data()\n",
    "# Keep only [text, label] columns, and fill NaN values\n",
    "subreddit_df = subreddit_df.iloc[:, :2]\n",
    "subreddit_df = subreddit_df.dropna()"
   ]
  },
  {
   "cell_type": "code",
   "execution_count": 22,
   "metadata": {},
   "outputs": [
    {
     "data": {
      "text/html": [
       "<div>\n",
       "<style scoped>\n",
       "    .dataframe tbody tr th:only-of-type {\n",
       "        vertical-align: middle;\n",
       "    }\n",
       "\n",
       "    .dataframe tbody tr th {\n",
       "        vertical-align: top;\n",
       "    }\n",
       "\n",
       "    .dataframe thead th {\n",
       "        text-align: right;\n",
       "    }\n",
       "</style>\n",
       "<table border=\"1\" class=\"dataframe\">\n",
       "  <thead>\n",
       "    <tr style=\"text-align: right;\">\n",
       "      <th></th>\n",
       "      <th>Unnamed: 0</th>\n",
       "      <th>label</th>\n",
       "      <th>text</th>\n",
       "    </tr>\n",
       "  </thead>\n",
       "  <tbody>\n",
       "    <tr>\n",
       "      <th>0</th>\n",
       "      <td>0</td>\n",
       "      <td>infj</td>\n",
       "      <td>The Tome of -lore (A user manual for ) Congrat...</td>\n",
       "    </tr>\n",
       "    <tr>\n",
       "      <th>1</th>\n",
       "      <td>1</td>\n",
       "      <td>infj</td>\n",
       "      <td>A love letter to s I’ve met a lot of people in...</td>\n",
       "    </tr>\n",
       "    <tr>\n",
       "      <th>2</th>\n",
       "      <td>2</td>\n",
       "      <td>infj</td>\n",
       "      <td>It feels weird and sad to feel so much compass...</td>\n",
       "    </tr>\n",
       "    <tr>\n",
       "      <th>3</th>\n",
       "      <td>3</td>\n",
       "      <td>infj</td>\n",
       "      <td>Just want a quiet simple life I’ve realized th...</td>\n",
       "    </tr>\n",
       "    <tr>\n",
       "      <th>4</th>\n",
       "      <td>4</td>\n",
       "      <td>infj</td>\n",
       "      <td>Does anybody here feels like they want to dele...</td>\n",
       "    </tr>\n",
       "  </tbody>\n",
       "</table>\n",
       "</div>"
      ],
      "text/plain": [
       "   Unnamed: 0 label                                               text\n",
       "0           0  infj  The Tome of -lore (A user manual for ) Congrat...\n",
       "1           1  infj  A love letter to s I’ve met a lot of people in...\n",
       "2           2  infj  It feels weird and sad to feel so much compass...\n",
       "3           3  infj  Just want a quiet simple life I’ve realized th...\n",
       "4           4  infj  Does anybody here feels like they want to dele..."
      ]
     },
     "execution_count": 22,
     "metadata": {},
     "output_type": "execute_result"
    }
   ],
   "source": [
    "from fastai.text import *\n",
    "\n",
    "subreddit_df = pd.read_csv('mbti_subreddit_data2.csv')\n",
    "subreddit_df.head()"
   ]
  },
  {
   "cell_type": "code",
   "execution_count": 23,
   "metadata": {},
   "outputs": [],
   "source": [
    "def sanitize(text):\n",
    "    types = ['infj', 'infp', 'intj', 'intp', 'istj', 'istp', 'isfp', 'isfj', 'enfj', 'enfp', 'entj', 'entp', 'estj', 'estp',\n",
    "       'esfp', 'esfj']\n",
    "    output_text = text\n",
    "    for type_ in types:\n",
    "        output_text = output_text.replace(type_, \"\")\n",
    "        output_text = output_text.replace(type_+'s', \"\")\n",
    "        output_text = output_text.replace(type_+'\\'s', \"\")\n",
    "        output_text = output_text.replace(type_.upper(), \"\")\n",
    "        output_text = output_text.replace(type_.upper()+'s', \"\")\n",
    "        output_text = output_text.replace(type_.upper()+'\\'s', \"\")\n",
    "    return output_text\n",
    "pd.options.mode.chained_assignment = None \n",
    "# Remove all mentions of one of the sixteen types\n",
    "for index, row in subreddit_df.iterrows(): \n",
    "     subreddit_df.text[index] = sanitize(subreddit_df.text[index])"
   ]
  },
  {
   "cell_type": "code",
   "execution_count": 24,
   "metadata": {},
   "outputs": [],
   "source": [
    "subreddit_df.shape\n",
    "subreddit_df.to_csv(\"mbti_subreddit_data2.csv\", index=False)"
   ]
  },
  {
   "cell_type": "code",
   "execution_count": 25,
   "metadata": {},
   "outputs": [
    {
     "data": {
      "text/html": [
       "<div>\n",
       "<style scoped>\n",
       "    .dataframe tbody tr th:only-of-type {\n",
       "        vertical-align: middle;\n",
       "    }\n",
       "\n",
       "    .dataframe tbody tr th {\n",
       "        vertical-align: top;\n",
       "    }\n",
       "\n",
       "    .dataframe thead th {\n",
       "        text-align: right;\n",
       "    }\n",
       "</style>\n",
       "<table border=\"1\" class=\"dataframe\">\n",
       "  <thead>\n",
       "    <tr style=\"text-align: right;\">\n",
       "      <th></th>\n",
       "      <th>Unnamed: 0</th>\n",
       "      <th>label</th>\n",
       "      <th>text</th>\n",
       "    </tr>\n",
       "  </thead>\n",
       "  <tbody>\n",
       "    <tr>\n",
       "      <th>0</th>\n",
       "      <td>0</td>\n",
       "      <td>infj</td>\n",
       "      <td>The Tome of -lore (A user manual for ) Congrat...</td>\n",
       "    </tr>\n",
       "    <tr>\n",
       "      <th>1</th>\n",
       "      <td>1</td>\n",
       "      <td>infj</td>\n",
       "      <td>A love letter to s I’ve met a lot of people in...</td>\n",
       "    </tr>\n",
       "    <tr>\n",
       "      <th>2</th>\n",
       "      <td>2</td>\n",
       "      <td>infj</td>\n",
       "      <td>It feels weird and sad to feel so much compass...</td>\n",
       "    </tr>\n",
       "    <tr>\n",
       "      <th>3</th>\n",
       "      <td>3</td>\n",
       "      <td>infj</td>\n",
       "      <td>Just want a quiet simple life I’ve realized th...</td>\n",
       "    </tr>\n",
       "    <tr>\n",
       "      <th>4</th>\n",
       "      <td>4</td>\n",
       "      <td>infj</td>\n",
       "      <td>Does anybody here feels like they want to dele...</td>\n",
       "    </tr>\n",
       "    <tr>\n",
       "      <th>5</th>\n",
       "      <td>5</td>\n",
       "      <td>infj</td>\n",
       "      <td>Your  Care And Handling User Guide And Manual ...</td>\n",
       "    </tr>\n",
       "    <tr>\n",
       "      <th>6</th>\n",
       "      <td>6</td>\n",
       "      <td>infj</td>\n",
       "      <td>Should we just make a new subreddit for s that...</td>\n",
       "    </tr>\n",
       "    <tr>\n",
       "      <th>7</th>\n",
       "      <td>7</td>\n",
       "      <td>infj</td>\n",
       "      <td>10 Commandments for an  I developed these remi...</td>\n",
       "    </tr>\n",
       "    <tr>\n",
       "      <th>8</th>\n",
       "      <td>8</td>\n",
       "      <td>infj</td>\n",
       "      <td>Do you guys ever feel that most of the talking...</td>\n",
       "    </tr>\n",
       "    <tr>\n",
       "      <th>9</th>\n",
       "      <td>9</td>\n",
       "      <td>infj</td>\n",
       "      <td>Do you feel guilty when you're relaxing? Like ...</td>\n",
       "    </tr>\n",
       "    <tr>\n",
       "      <th>10</th>\n",
       "      <td>10</td>\n",
       "      <td>infj</td>\n",
       "      <td>Does anyone else love learning absolutely ever...</td>\n",
       "    </tr>\n",
       "    <tr>\n",
       "      <th>11</th>\n",
       "      <td>11</td>\n",
       "      <td>infj</td>\n",
       "      <td>Confession time - What are the big lies you fe...</td>\n",
       "    </tr>\n",
       "    <tr>\n",
       "      <th>12</th>\n",
       "      <td>12</td>\n",
       "      <td>infj</td>\n",
       "      <td>Do you sometimes get brought to tears by beaut...</td>\n",
       "    </tr>\n",
       "    <tr>\n",
       "      <th>13</th>\n",
       "      <td>13</td>\n",
       "      <td>infj</td>\n",
       "      <td>I constantly feel extremely lonely, but I also...</td>\n",
       "    </tr>\n",
       "    <tr>\n",
       "      <th>14</th>\n",
       "      <td>14</td>\n",
       "      <td>infj</td>\n",
       "      <td>Why does it feel soo good to be alone? Do you ...</td>\n",
       "    </tr>\n",
       "    <tr>\n",
       "      <th>15</th>\n",
       "      <td>15</td>\n",
       "      <td>infj</td>\n",
       "      <td>Does s get exhausted in fake social situations...</td>\n",
       "    </tr>\n",
       "    <tr>\n",
       "      <th>16</th>\n",
       "      <td>16</td>\n",
       "      <td>infj</td>\n",
       "      <td>When I meet someone I truly connect with, even...</td>\n",
       "    </tr>\n",
       "    <tr>\n",
       "      <th>17</th>\n",
       "      <td>17</td>\n",
       "      <td>infj</td>\n",
       "      <td>Anyone else feel with most of your relationshi...</td>\n",
       "    </tr>\n",
       "    <tr>\n",
       "      <th>18</th>\n",
       "      <td>18</td>\n",
       "      <td>infj</td>\n",
       "      <td>Any of you feel like your brain processes stuf...</td>\n",
       "    </tr>\n",
       "    <tr>\n",
       "      <th>19</th>\n",
       "      <td>19</td>\n",
       "      <td>infj</td>\n",
       "      <td>The  door slam is actually a VERY SLOW close. ...</td>\n",
       "    </tr>\n",
       "    <tr>\n",
       "      <th>20</th>\n",
       "      <td>20</td>\n",
       "      <td>infj</td>\n",
       "      <td>Anyone else's love of being alone fighting aga...</td>\n",
       "    </tr>\n",
       "    <tr>\n",
       "      <th>21</th>\n",
       "      <td>21</td>\n",
       "      <td>infj</td>\n",
       "      <td>This may be an unpopular opinion, but I unders...</td>\n",
       "    </tr>\n",
       "    <tr>\n",
       "      <th>22</th>\n",
       "      <td>22</td>\n",
       "      <td>infj</td>\n",
       "      <td>s and obsessive personalities I'm an  and ever...</td>\n",
       "    </tr>\n",
       "    <tr>\n",
       "      <th>23</th>\n",
       "      <td>23</td>\n",
       "      <td>infj</td>\n",
       "      <td>Does anyone ever feel like they give lots of s...</td>\n",
       "    </tr>\n",
       "    <tr>\n",
       "      <th>24</th>\n",
       "      <td>24</td>\n",
       "      <td>infj</td>\n",
       "      <td>Are s born, or made ? I’ve noticed a pattern a...</td>\n",
       "    </tr>\n",
       "    <tr>\n",
       "      <th>25</th>\n",
       "      <td>25</td>\n",
       "      <td>infj</td>\n",
       "      <td>Don't count yourself out just yet You're not o...</td>\n",
       "    </tr>\n",
       "    <tr>\n",
       "      <th>26</th>\n",
       "      <td>26</td>\n",
       "      <td>infj</td>\n",
       "      <td>How do you guys feel about social media use? A...</td>\n",
       "    </tr>\n",
       "    <tr>\n",
       "      <th>27</th>\n",
       "      <td>27</td>\n",
       "      <td>infj</td>\n",
       "      <td>Idk why everyone wants to be An  I really don’...</td>\n",
       "    </tr>\n",
       "    <tr>\n",
       "      <th>28</th>\n",
       "      <td>28</td>\n",
       "      <td>infj</td>\n",
       "      <td>You know you're an  when... 1. You zone out in...</td>\n",
       "    </tr>\n",
       "    <tr>\n",
       "      <th>29</th>\n",
       "      <td>29</td>\n",
       "      <td>infj</td>\n",
       "      <td>'You seem to think your own feelings rather th...</td>\n",
       "    </tr>\n",
       "    <tr>\n",
       "      <th>...</th>\n",
       "      <td>...</td>\n",
       "      <td>...</td>\n",
       "      <td>...</td>\n",
       "    </tr>\n",
       "    <tr>\n",
       "      <th>9233</th>\n",
       "      <td>9269</td>\n",
       "      <td>esfj</td>\n",
       "      <td>What do you think of s? Well, it says it all.</td>\n",
       "    </tr>\n",
       "    <tr>\n",
       "      <th>9234</th>\n",
       "      <td>9270</td>\n",
       "      <td>esfj</td>\n",
       "      <td>S's: Have you ever cheated? If so, why? I'm []...</td>\n",
       "    </tr>\n",
       "    <tr>\n",
       "      <th>9235</th>\n",
       "      <td>9271</td>\n",
       "      <td>esfj</td>\n",
       "      <td>Is it too soon? To those that are grieving a p...</td>\n",
       "    </tr>\n",
       "    <tr>\n",
       "      <th>9236</th>\n",
       "      <td>9272</td>\n",
       "      <td>esfj</td>\n",
       "      <td>What is the most important thing in your life?...</td>\n",
       "    </tr>\n",
       "    <tr>\n",
       "      <th>9237</th>\n",
       "      <td>9273</td>\n",
       "      <td>esfj</td>\n",
       "      <td>Question about personaltiy So I took a test an...</td>\n",
       "    </tr>\n",
       "    <tr>\n",
       "      <th>9238</th>\n",
       "      <td>9274</td>\n",
       "      <td>esfj</td>\n",
       "      <td>here, How do I make myself attractive to an ?...</td>\n",
       "    </tr>\n",
       "    <tr>\n",
       "      <th>9239</th>\n",
       "      <td>9275</td>\n",
       "      <td>esfj</td>\n",
       "      <td>Word vomit around your crush?!? Hey fellow Esf...</td>\n",
       "    </tr>\n",
       "    <tr>\n",
       "      <th>9240</th>\n",
       "      <td>9276</td>\n",
       "      <td>esfj</td>\n",
       "      <td>Are any of you guys Enneagram 3? I know E2 is ...</td>\n",
       "    </tr>\n",
       "    <tr>\n",
       "      <th>9241</th>\n",
       "      <td>9277</td>\n",
       "      <td>esfj</td>\n",
       "      <td>My Father in law has cancer . . . My wife is a...</td>\n",
       "    </tr>\n",
       "    <tr>\n",
       "      <th>9242</th>\n",
       "      <td>9278</td>\n",
       "      <td>esfj</td>\n",
       "      <td>-  Friendship My very best friend is an  and ...</td>\n",
       "    </tr>\n",
       "    <tr>\n",
       "      <th>9243</th>\n",
       "      <td>9279</td>\n",
       "      <td>esfj</td>\n",
       "      <td>Trying to figure out if someone is  or , pleas...</td>\n",
       "    </tr>\n",
       "    <tr>\n",
       "      <th>9244</th>\n",
       "      <td>9280</td>\n",
       "      <td>esfj</td>\n",
       "      <td>Any  who have dated/are dating an ? Everything...</td>\n",
       "    </tr>\n",
       "    <tr>\n",
       "      <th>9245</th>\n",
       "      <td>9281</td>\n",
       "      <td>esfj</td>\n",
       "      <td>2's and manipulation I have an  2 mom and she...</td>\n",
       "    </tr>\n",
       "    <tr>\n",
       "      <th>9246</th>\n",
       "      <td>9282</td>\n",
       "      <td>esfj</td>\n",
       "      <td>Question- Are s triggered by the need to seek ...</td>\n",
       "    </tr>\n",
       "    <tr>\n",
       "      <th>9247</th>\n",
       "      <td>9283</td>\n",
       "      <td>esfj</td>\n",
       "      <td>Join my MBTI server! Hello MBTI Enthusiasts! I...</td>\n",
       "    </tr>\n",
       "    <tr>\n",
       "      <th>9248</th>\n",
       "      <td>9284</td>\n",
       "      <td>esfj</td>\n",
       "      <td>There's an  girl interested in me an  guy We b...</td>\n",
       "    </tr>\n",
       "    <tr>\n",
       "      <th>9249</th>\n",
       "      <td>9285</td>\n",
       "      <td>esfj</td>\n",
       "      <td>: ya'll are werid enough said</td>\n",
       "    </tr>\n",
       "    <tr>\n",
       "      <th>9250</th>\n",
       "      <td>9286</td>\n",
       "      <td>esfj</td>\n",
       "      <td>What is for you the greatest invention of the ...</td>\n",
       "    </tr>\n",
       "    <tr>\n",
       "      <th>9251</th>\n",
       "      <td>9287</td>\n",
       "      <td>esfj</td>\n",
       "      <td>MBTI and video game preferences I was playing ...</td>\n",
       "    </tr>\n",
       "    <tr>\n",
       "      <th>9252</th>\n",
       "      <td>9288</td>\n",
       "      <td>esfj</td>\n",
       "      <td>To change the face of human psychology complet...</td>\n",
       "    </tr>\n",
       "    <tr>\n",
       "      <th>9253</th>\n",
       "      <td>9289</td>\n",
       "      <td>esfj</td>\n",
       "      <td>Nothing invites attacks from others like a goo...</td>\n",
       "    </tr>\n",
       "    <tr>\n",
       "      <th>9254</th>\n",
       "      <td>9290</td>\n",
       "      <td>esfj</td>\n",
       "      <td>JOIN OUR MBTI GROUPME CHAT! We are a welcoming...</td>\n",
       "    </tr>\n",
       "    <tr>\n",
       "      <th>9255</th>\n",
       "      <td>9291</td>\n",
       "      <td>esfj</td>\n",
       "      <td>Company assigning employees to teams based on ...</td>\n",
       "    </tr>\n",
       "    <tr>\n",
       "      <th>9256</th>\n",
       "      <td>9292</td>\n",
       "      <td>esfj</td>\n",
       "      <td>New subreddit for MBTI discussion. Who wants t...</td>\n",
       "    </tr>\n",
       "    <tr>\n",
       "      <th>9257</th>\n",
       "      <td>9293</td>\n",
       "      <td>esfj</td>\n",
       "      <td>Am I a ? TLDR: Am I a jaded  maybe? How do you...</td>\n",
       "    </tr>\n",
       "    <tr>\n",
       "      <th>9258</th>\n",
       "      <td>9294</td>\n",
       "      <td>esfj</td>\n",
       "      <td>Looking for  to chat with on IRC. I just thoug...</td>\n",
       "    </tr>\n",
       "    <tr>\n",
       "      <th>9259</th>\n",
       "      <td>9295</td>\n",
       "      <td>esfj</td>\n",
       "      <td>I hate you You always laugh at me at school be...</td>\n",
       "    </tr>\n",
       "    <tr>\n",
       "      <th>9260</th>\n",
       "      <td>9296</td>\n",
       "      <td>esfj</td>\n",
       "      <td>what's your height and weight? Can you please ...</td>\n",
       "    </tr>\n",
       "    <tr>\n",
       "      <th>9261</th>\n",
       "      <td>9297</td>\n",
       "      <td>esfj</td>\n",
       "      <td>Why do  women do this? I've noticed  women ten...</td>\n",
       "    </tr>\n",
       "    <tr>\n",
       "      <th>9262</th>\n",
       "      <td>9298</td>\n",
       "      <td>esfj</td>\n",
       "      <td>rant I'm an  here\\nI hate you guys\\ndrama-quee...</td>\n",
       "    </tr>\n",
       "  </tbody>\n",
       "</table>\n",
       "<p>9263 rows × 3 columns</p>\n",
       "</div>"
      ],
      "text/plain": [
       "      Unnamed: 0 label                                               text\n",
       "0              0  infj  The Tome of -lore (A user manual for ) Congrat...\n",
       "1              1  infj  A love letter to s I’ve met a lot of people in...\n",
       "2              2  infj  It feels weird and sad to feel so much compass...\n",
       "3              3  infj  Just want a quiet simple life I’ve realized th...\n",
       "4              4  infj  Does anybody here feels like they want to dele...\n",
       "5              5  infj  Your  Care And Handling User Guide And Manual ...\n",
       "6              6  infj  Should we just make a new subreddit for s that...\n",
       "7              7  infj  10 Commandments for an  I developed these remi...\n",
       "8              8  infj  Do you guys ever feel that most of the talking...\n",
       "9              9  infj  Do you feel guilty when you're relaxing? Like ...\n",
       "10            10  infj  Does anyone else love learning absolutely ever...\n",
       "11            11  infj  Confession time - What are the big lies you fe...\n",
       "12            12  infj  Do you sometimes get brought to tears by beaut...\n",
       "13            13  infj  I constantly feel extremely lonely, but I also...\n",
       "14            14  infj  Why does it feel soo good to be alone? Do you ...\n",
       "15            15  infj  Does s get exhausted in fake social situations...\n",
       "16            16  infj  When I meet someone I truly connect with, even...\n",
       "17            17  infj  Anyone else feel with most of your relationshi...\n",
       "18            18  infj  Any of you feel like your brain processes stuf...\n",
       "19            19  infj  The  door slam is actually a VERY SLOW close. ...\n",
       "20            20  infj  Anyone else's love of being alone fighting aga...\n",
       "21            21  infj  This may be an unpopular opinion, but I unders...\n",
       "22            22  infj  s and obsessive personalities I'm an  and ever...\n",
       "23            23  infj  Does anyone ever feel like they give lots of s...\n",
       "24            24  infj  Are s born, or made ? I’ve noticed a pattern a...\n",
       "25            25  infj  Don't count yourself out just yet You're not o...\n",
       "26            26  infj  How do you guys feel about social media use? A...\n",
       "27            27  infj  Idk why everyone wants to be An  I really don’...\n",
       "28            28  infj  You know you're an  when... 1. You zone out in...\n",
       "29            29  infj  'You seem to think your own feelings rather th...\n",
       "...          ...   ...                                                ...\n",
       "9233        9269  esfj      What do you think of s? Well, it says it all.\n",
       "9234        9270  esfj  S's: Have you ever cheated? If so, why? I'm []...\n",
       "9235        9271  esfj  Is it too soon? To those that are grieving a p...\n",
       "9236        9272  esfj  What is the most important thing in your life?...\n",
       "9237        9273  esfj  Question about personaltiy So I took a test an...\n",
       "9238        9274  esfj   here, How do I make myself attractive to an ?...\n",
       "9239        9275  esfj  Word vomit around your crush?!? Hey fellow Esf...\n",
       "9240        9276  esfj  Are any of you guys Enneagram 3? I know E2 is ...\n",
       "9241        9277  esfj  My Father in law has cancer . . . My wife is a...\n",
       "9242        9278  esfj   -  Friendship My very best friend is an  and ...\n",
       "9243        9279  esfj  Trying to figure out if someone is  or , pleas...\n",
       "9244        9280  esfj  Any  who have dated/are dating an ? Everything...\n",
       "9245        9281  esfj   2's and manipulation I have an  2 mom and she...\n",
       "9246        9282  esfj  Question- Are s triggered by the need to seek ...\n",
       "9247        9283  esfj  Join my MBTI server! Hello MBTI Enthusiasts! I...\n",
       "9248        9284  esfj  There's an  girl interested in me an  guy We b...\n",
       "9249        9285  esfj                      : ya'll are werid enough said\n",
       "9250        9286  esfj  What is for you the greatest invention of the ...\n",
       "9251        9287  esfj  MBTI and video game preferences I was playing ...\n",
       "9252        9288  esfj  To change the face of human psychology complet...\n",
       "9253        9289  esfj  Nothing invites attacks from others like a goo...\n",
       "9254        9290  esfj  JOIN OUR MBTI GROUPME CHAT! We are a welcoming...\n",
       "9255        9291  esfj  Company assigning employees to teams based on ...\n",
       "9256        9292  esfj  New subreddit for MBTI discussion. Who wants t...\n",
       "9257        9293  esfj  Am I a ? TLDR: Am I a jaded  maybe? How do you...\n",
       "9258        9294  esfj  Looking for  to chat with on IRC. I just thoug...\n",
       "9259        9295  esfj  I hate you You always laugh at me at school be...\n",
       "9260        9296  esfj  what's your height and weight? Can you please ...\n",
       "9261        9297  esfj  Why do  women do this? I've noticed  women ten...\n",
       "9262        9298  esfj  rant I'm an  here\\nI hate you guys\\ndrama-quee...\n",
       "\n",
       "[9263 rows x 3 columns]"
      ]
     },
     "execution_count": 25,
     "metadata": {},
     "output_type": "execute_result"
    }
   ],
   "source": [
    "pd.read_csv('mbti_subreddit_data2.csv')"
   ]
  },
  {
   "cell_type": "markdown",
   "metadata": {},
   "source": [
    "### First we create a language model"
   ]
  },
  {
   "cell_type": "code",
   "execution_count": 26,
   "metadata": {},
   "outputs": [],
   "source": [
    "data_lm = TextLMDataBunch.from_csv(\"\", \"mbti_subreddit_data2.csv\",\n",
    "                                 valid_pct=0.2, text_cols='text', label_cols='label')"
   ]
  },
  {
   "cell_type": "code",
   "execution_count": null,
   "metadata": {},
   "outputs": [],
   "source": [
    "data_lm.show_batch()"
   ]
  },
  {
   "cell_type": "code",
   "execution_count": 27,
   "metadata": {},
   "outputs": [],
   "source": [
    "learn = language_model_learner(data_lm, AWD_LSTM, drop_mult=0.5)"
   ]
  },
  {
   "cell_type": "code",
   "execution_count": null,
   "metadata": {},
   "outputs": [],
   "source": [
    "learn.lr_find()"
   ]
  },
  {
   "cell_type": "code",
   "execution_count": null,
   "metadata": {},
   "outputs": [],
   "source": [
    "learn.recorder.plot()"
   ]
  },
  {
   "cell_type": "code",
   "execution_count": 28,
   "metadata": {},
   "outputs": [
    {
     "data": {
      "text/html": [
       "<table border=\"1\" class=\"dataframe\">\n",
       "  <thead>\n",
       "    <tr style=\"text-align: left;\">\n",
       "      <th>epoch</th>\n",
       "      <th>train_loss</th>\n",
       "      <th>valid_loss</th>\n",
       "      <th>accuracy</th>\n",
       "      <th>time</th>\n",
       "    </tr>\n",
       "  </thead>\n",
       "  <tbody>\n",
       "    <tr>\n",
       "      <td>0</td>\n",
       "      <td>4.144573</td>\n",
       "      <td>3.898413</td>\n",
       "      <td>0.270754</td>\n",
       "      <td>01:19</td>\n",
       "    </tr>\n",
       "  </tbody>\n",
       "</table>"
      ],
      "text/plain": [
       "<IPython.core.display.HTML object>"
      ]
     },
     "metadata": {},
     "output_type": "display_data"
    }
   ],
   "source": [
    "learn.fit_one_cycle(1, 1e-2)"
   ]
  },
  {
   "cell_type": "code",
   "execution_count": 29,
   "metadata": {},
   "outputs": [
    {
     "data": {
      "text/html": [
       "<table border=\"1\" class=\"dataframe\">\n",
       "  <thead>\n",
       "    <tr style=\"text-align: left;\">\n",
       "      <th>epoch</th>\n",
       "      <th>train_loss</th>\n",
       "      <th>valid_loss</th>\n",
       "      <th>accuracy</th>\n",
       "      <th>time</th>\n",
       "    </tr>\n",
       "  </thead>\n",
       "  <tbody>\n",
       "    <tr>\n",
       "      <td>0</td>\n",
       "      <td>3.842225</td>\n",
       "      <td>3.789463</td>\n",
       "      <td>0.283432</td>\n",
       "      <td>01:43</td>\n",
       "    </tr>\n",
       "    <tr>\n",
       "      <td>1</td>\n",
       "      <td>3.694977</td>\n",
       "      <td>3.676118</td>\n",
       "      <td>0.300820</td>\n",
       "      <td>01:43</td>\n",
       "    </tr>\n",
       "    <tr>\n",
       "      <td>2</td>\n",
       "      <td>3.492847</td>\n",
       "      <td>3.605441</td>\n",
       "      <td>0.312623</td>\n",
       "      <td>01:43</td>\n",
       "    </tr>\n",
       "    <tr>\n",
       "      <td>3</td>\n",
       "      <td>3.287298</td>\n",
       "      <td>3.582550</td>\n",
       "      <td>0.317945</td>\n",
       "      <td>01:43</td>\n",
       "    </tr>\n",
       "    <tr>\n",
       "      <td>4</td>\n",
       "      <td>3.168401</td>\n",
       "      <td>3.586399</td>\n",
       "      <td>0.318243</td>\n",
       "      <td>01:43</td>\n",
       "    </tr>\n",
       "  </tbody>\n",
       "</table>"
      ],
      "text/plain": [
       "<IPython.core.display.HTML object>"
      ]
     },
     "metadata": {},
     "output_type": "display_data"
    }
   ],
   "source": [
    "learn.unfreeze()\n",
    "learn.fit_one_cycle(5, 1e-3, moms=(0.8, 0.7))"
   ]
  },
  {
   "cell_type": "code",
   "execution_count": 30,
   "metadata": {},
   "outputs": [],
   "source": [
    "learn.save('lm-trained')\n",
    "learn.save_encoder('ft_enc')"
   ]
  },
  {
   "cell_type": "code",
   "execution_count": 31,
   "metadata": {},
   "outputs": [
    {
     "data": {
      "text/plain": [
       "\"Hello, I am an female ( 23 m ) early death in ten years Hello lovely 's\""
      ]
     },
     "execution_count": 31,
     "metadata": {},
     "output_type": "execute_result"
    }
   ],
   "source": [
    "learn.predict(\"Hello, I am\", n_words=15)"
   ]
  },
  {
   "cell_type": "code",
   "execution_count": 32,
   "metadata": {},
   "outputs": [],
   "source": [
    "learn.load_encoder('ft_enc')"
   ]
  },
  {
   "cell_type": "markdown",
   "metadata": {},
   "source": [
    "### Next we use the language model to create a classifier"
   ]
  },
  {
   "cell_type": "code",
   "execution_count": 33,
   "metadata": {},
   "outputs": [
    {
     "data": {
      "text/html": [
       "<table border=\"1\" class=\"dataframe\">\n",
       "  <thead>\n",
       "    <tr style=\"text-align: right;\">\n",
       "      <th>text</th>\n",
       "      <th>target</th>\n",
       "    </tr>\n",
       "  </thead>\n",
       "  <tbody>\n",
       "    <tr>\n",
       "      <td>xxbos xxmaj common xxmaj questions and xxmaj answers for and about s xxmaj hello s ! xxmaj here is a collection of some stuff i thought captured majority xxunk . xxmaj feel free to make additions , suggest xxunk or even write your own section and add it in . xxmaj press xxunk for fastest answer . \\n \\n \\n  xxmaj edit ; xxmaj to whoever gave me xxunk</td>\n",
       "      <td>infj</td>\n",
       "    </tr>\n",
       "    <tr>\n",
       "      <td>xxbos xxmaj shades of xxmaj now seems like a good time to re - surface a collection of very informative threads that someone posted a while ago . \\n \\n  / u / xxmaj intempestivity took the xxup mbti xxmaj step xxup ii test at work , then kindly typed out her * entire xxmaj step xxup ii xxmaj interpretive xxmaj report * and shared it here on /</td>\n",
       "      <td>infj</td>\n",
       "    </tr>\n",
       "    <tr>\n",
       "      <td>xxbos s in relationships xxmaj found this interesting : \\n \\n  * * and * * \\n \\n  * * xxmaj how the relationship works * * : s and s are both very committed in a relationship , and will set clear , concise goals in their own heads of where a relationship is going . xxmaj they love to go out and do things together ,</td>\n",
       "      <td>infj</td>\n",
       "    </tr>\n",
       "    <tr>\n",
       "      <td>xxbos xxmaj brief mental health guide and resources for s xxmaj hello s ! i thought it would be great to make a collective document with some useful information and resources to help you bring your best self forward . xxmaj here is an [ informal xxunk : / / www.strawpoll.me / xxunk / r ) collecting data about fellow s and mental health . \\n \\n  xxmaj feel</td>\n",
       "      <td>infj</td>\n",
       "    </tr>\n",
       "    <tr>\n",
       "      <td>xxbos xxmaj dating xxmaj list xxmaj megathread ( xxmaj xxunk ) xxmaj do you like s ? \\n  xxmaj do you want to try an out for yourself , but are just too shy to ask directly ? \\n  xxmaj are you tired of ignoring the search button and asking how s feel about your type ? \\n \\n  xxmaj well we 're kind of tired of</td>\n",
       "      <td>entj</td>\n",
       "    </tr>\n",
       "  </tbody>\n",
       "</table>"
      ],
      "text/plain": [
       "<IPython.core.display.HTML object>"
      ]
     },
     "metadata": {},
     "output_type": "display_data"
    }
   ],
   "source": [
    "data_clas = TextClasDataBunch.from_csv('', 'mbti_subreddit_data2.csv', valid_pct=0.2,\n",
    "                                      vocab=data_lm.train_ds.vocab, bs=10,\n",
    "                                      text_cols='text', label_cols='label') # same vocab for both models\n",
    "data_clas.show_batch()"
   ]
  },
  {
   "cell_type": "code",
   "execution_count": 34,
   "metadata": {},
   "outputs": [],
   "source": [
    "classifier = text_classifier_learner(data_clas, AWD_LSTM, drop_mult=0.5)\n",
    "classifier.load_encoder('ft_enc')"
   ]
  },
  {
   "cell_type": "code",
   "execution_count": 35,
   "metadata": {},
   "outputs": [
    {
     "data": {
      "text/html": [],
      "text/plain": [
       "<IPython.core.display.HTML object>"
      ]
     },
     "metadata": {},
     "output_type": "display_data"
    },
    {
     "name": "stdout",
     "output_type": "stream",
     "text": [
      "LR Finder is complete, type {learner_name}.recorder.plot() to see the graph.\n"
     ]
    }
   ],
   "source": [
    "classifier.lr_find()"
   ]
  },
  {
   "cell_type": "code",
   "execution_count": null,
   "metadata": {},
   "outputs": [
    {
     "data": {
      "image/png": "[encoded data removed]",
      "text/plain": [
       "<Figure size 432x288 with 1 Axes>"
      ]
     },
     "metadata": {
      "needs_background": "light"
     },
     "output_type": "display_data"
    }
   ],
   "source": [
    "classifier.recorder.plot()"
   ]
  },
  {
   "cell_type": "code",
   "execution_count": null,
   "metadata": {},
   "outputs": [
    {
     "data": {
      "text/html": [
       "<table border=\"1\" class=\"dataframe\">\n",
       "  <thead>\n",
       "    <tr style=\"text-align: left;\">\n",
       "      <th>epoch</th>\n",
       "      <th>train_loss</th>\n",
       "      <th>valid_loss</th>\n",
       "      <th>accuracy</th>\n",
       "      <th>time</th>\n",
       "    </tr>\n",
       "  </thead>\n",
       "  <tbody>\n",
       "    <tr>\n",
       "      <td>0</td>\n",
       "      <td>2.509150</td>\n",
       "      <td>5.525343</td>\n",
       "      <td>0.167296</td>\n",
       "      <td>03:14</td>\n",
       "    </tr>\n",
       "  </tbody>\n",
       "</table>"
      ],
      "text/plain": [
       "<IPython.core.display.HTML object>"
      ]
     },
     "metadata": {},
     "output_type": "display_data"
    }
   ],
   "source": [
    "classifier.fit_one_cycle(1, 5e-2, moms=(0.8, 0.7))"
   ]
  },
  {
   "cell_type": "code",
   "execution_count": null,
   "metadata": {},
   "outputs": [
    {
     "data": {
      "text/plain": [
       "RNNLearner(data=TextClasDataBunch;\n",
       "\n",
       "Train: LabelList (7410 items)\n",
       "x: TextList\n",
       "xxbos xxmaj getting lost in time ? xxmaj does anyone else here lose track of time super easily ? \n",
       " \n",
       "  xxmaj if i 'm interested in something i 'm researching or i find a place to walk around etc . i feel like day spills into night without my noticing .. there 's just not enough hours . xxmaj and it 's so hard to go to bed before 3 am so maybe it 's a sleep schedule thing too ?,xxbos xxmaj anyone dealing with anger issues ? xxmaj how do you guys have dealt or are dealing with this types of emotions ? \n",
       " \n",
       "  xxmaj recently i 've been feeling angrier than normal , a growing pain product of being powerless and without options for my personal and financial growth . xxmaj its getting so bad i get angry at the slightest , tiniest inconvenience i encounter in my life . \n",
       " \n",
       "  xxmaj to give some backstory i had to move out of my country because it was unbearable to live there and now i am in a new place full of opportunities , but opportunities which i ca n't take right now thanks to the fact that i do n't have much money and i 'm a new xxunk . xxmaj been struggling also to get a fair decent job to start with something but never passed the selection process , so i have to live by with shitty jobs which pays nothing at all and work hours are around 10 to 12 hours the day . i think the anger is the result of the frustration i feel deep inside of me thanks to the fact i ca n't achieve anything important or relevant . \n",
       " \n",
       "  xxmaj pardon me any typo or grammar error and thank you for reading . \n",
       " \n",
       "  ​,xxbos i xxup despise romance : s pls comment xxmaj this is really getting old folks . i can not count the stream of people that have turned out to be disingenuous , xxunk to my values , or just completely xxunk . xxmaj just again , tonight , i ’ve had to cut all the strings to someone i liked because this person lied to me . i will only take maybe one lie , two xxunk , otherwise my heart has become way too callous to be lenient . xxmaj it upsets me over and over again to have to cut so many people out , but i know that i can not make the same mistake twice by keeping them around . xxmaj it makes me all so weary and i ’m thinking it is maybe time to get a therapist . xxmaj maybe it ’s hurtful to myself to keep cutting out these xxunk , but i also wonder how a therapist could tell me to improve when i know best what my own standards are ... \n",
       " \n",
       "  xxmaj is this the case for any other s out there ? xxmaj are we just too selective ? xxmaj or is the barren xxunk of potential mates just something we need to get used to ?,xxbos xxmaj any out there that attract depressed / anxious people ? i am an and i 've noticed that the girls who are attracted to me are often depressed and have high anxiety . i 've dated girls with xxunk , depression , and bi polar disorder . i have lots of friends who are not depressed but i feel like depressed people are drawn to me and open up to me way faster than i am comfortable with . i just met a depressed and she told me about her depression and anxiety within 10 minutes of our first conversation . xxmaj sorry if this blurb did n't flow very well ... .,xxbos xxmaj addicted to absorbing knowledge as an xxmaj anyone else feel like they are addicted to learning , no matter what it may be about ? i feel like i could read about anything for hours but the only flaw is when i am made to learn something against my will ( xxmaj university , school , etc . ) even if it 's something i already am interested in , i lose all motivation to do it .\n",
       "y: CategoryList\n",
       "enfp,entj,entj,estp,entj\n",
       "Path: .;\n",
       "\n",
       "Valid: LabelList (1853 items)\n",
       "x: TextList\n",
       "xxbos xxmaj anyone else feel like they ’re not really all that creative ? / title \n",
       " \n",
       "  i ’ve had people tell me i ’m creative , but i ’m not really inclined to believe them . i do n’t really feel like i fit the archetype of shitting out constant streams of xxunk and xxunk ideas / inventions around the clock . xxmaj sure , i might have a good idea every now and then , but it never really seems to be that big of an idea and it usually is n’t that “ out there . ” i ca n’t imagine just coming up with plethora of new ideas every second of the day . i also feel like this level of xxunk comes more with understanding of a subject than anything . \n",
       " \n",
       "  xxmaj similarly , i sometimes find it hard to just sit down and “ brainstorm . ” i also take stimulants for xxup adhd , so that may also be part of it . \n",
       " \n",
       "  xxmaj yes , i know that the xxup mbti boxes are xxunk and are not definitive . xxmaj but for the sake of argument , does anyone else feel like this ?,xxbos xxmaj what the fuck is going on with life ? i do n't even know what i 'm doing with it , and for what . xxmaj one moment i aspire to start a business or get a fancy degree but the next moment i find myself being lazy because what for is it ? xxmaj and then i do n't even know why would i want it . xxmaj no job , no new city or new country or new things wo n't make me change what i 'm feeling . xxmaj the only meaning i see in life is to make the most of it , and experience things you want to , because what else makes sense ? xxmaj anyone else is confused too ?,xxbos xxmaj sometimes i browse this sub to fall in a love for a little while ( here ) xxmaj that 's all i had to say ! xxmaj keep being you !,xxbos xxmaj the best way to break up with an ? i 've tried to make it work . xxmaj but i 'm an and he gets so angry with me . xxmaj now i just want it to end peacefully and amicably . xxmaj any advice ?,xxbos xxmaj which type do n’t you get along with ? xxmaj hi there s , \n",
       " \n",
       "  xxmaj so i was wondering , which types do n’t you guys usually get along with ? i get along with most types , albeit maybe a little xxunk . i struggle with people who place an importance on xxmaj extraverted xxmaj thinking ( xxmaj te ) . xxmaj these types include s , s , s , and s. i get along with the intuitive types better , but i still find them insensitive of others’ feelings . \n",
       " \n",
       "  xxmaj what do you guys think ?\n",
       "y: CategoryList\n",
       "entp,entp,enfj,estj,enfj\n",
       "Path: .;\n",
       "\n",
       "Test: None, model=SequentialRNN(\n",
       "  (0): MultiBatchEncoder(\n",
       "    (module): AWD_LSTM(\n",
       "      (encoder): Embedding(15280, 400, padding_idx=1)\n",
       "      (encoder_dp): EmbeddingDropout(\n",
       "        (emb): Embedding(15280, 400, padding_idx=1)\n",
       "      )\n",
       "      (rnns): ModuleList(\n",
       "        (0): WeightDropout(\n",
       "          (module): LSTM(400, 1152, batch_first=True)\n",
       "        )\n",
       "        (1): WeightDropout(\n",
       "          (module): LSTM(1152, 1152, batch_first=True)\n",
       "        )\n",
       "        (2): WeightDropout(\n",
       "          (module): LSTM(1152, 400, batch_first=True)\n",
       "        )\n",
       "      )\n",
       "      (input_dp): RNNDropout()\n",
       "      (hidden_dps): ModuleList(\n",
       "        (0): RNNDropout()\n",
       "        (1): RNNDropout()\n",
       "        (2): RNNDropout()\n",
       "      )\n",
       "    )\n",
       "  )\n",
       "  (1): PoolingLinearClassifier(\n",
       "    (layers): Sequential(\n",
       "      (0): BatchNorm1d(1200, eps=1e-05, momentum=0.1, affine=True, track_running_stats=True)\n",
       "      (1): Dropout(p=0.2)\n",
       "      (2): Linear(in_features=1200, out_features=50, bias=True)\n",
       "      (3): ReLU(inplace)\n",
       "      (4): BatchNorm1d(50, eps=1e-05, momentum=0.1, affine=True, track_running_stats=True)\n",
       "      (5): Dropout(p=0.1)\n",
       "      (6): Linear(in_features=50, out_features=16, bias=True)\n",
       "    )\n",
       "  )\n",
       "), opt_func=functools.partial(<class 'torch.optim.adam.Adam'>, betas=(0.9, 0.99)), loss_func=FlattenedLoss of CrossEntropyLoss(), metrics=[<function accuracy at 0x7f57f209e9d8>], true_wd=True, bn_wd=True, wd=0.01, train_bn=True, path=PosixPath('.'), model_dir='models', callback_fns=[functools.partial(<class 'fastai.basic_train.Recorder'>, add_time=True, silent=False)], callbacks=[RNNTrainer\n",
       "learn: ...\n",
       "alpha: 2.0\n",
       "beta: 1.0], layer_groups=[Sequential(\n",
       "  (0): Embedding(15280, 400, padding_idx=1)\n",
       "  (1): EmbeddingDropout(\n",
       "    (emb): Embedding(15280, 400, padding_idx=1)\n",
       "  )\n",
       "), Sequential(\n",
       "  (0): WeightDropout(\n",
       "    (module): LSTM(400, 1152, batch_first=True)\n",
       "  )\n",
       "  (1): RNNDropout()\n",
       "), Sequential(\n",
       "  (0): WeightDropout(\n",
       "    (module): LSTM(1152, 1152, batch_first=True)\n",
       "  )\n",
       "  (1): RNNDropout()\n",
       "), Sequential(\n",
       "  (0): WeightDropout(\n",
       "    (module): LSTM(1152, 400, batch_first=True)\n",
       "  )\n",
       "  (1): RNNDropout()\n",
       "), Sequential(\n",
       "  (0): PoolingLinearClassifier(\n",
       "    (layers): Sequential(\n",
       "      (0): BatchNorm1d(1200, eps=1e-05, momentum=0.1, affine=True, track_running_stats=True)\n",
       "      (1): Dropout(p=0.2)\n",
       "      (2): Linear(in_features=1200, out_features=50, bias=True)\n",
       "      (3): ReLU(inplace)\n",
       "      (4): BatchNorm1d(50, eps=1e-05, momentum=0.1, affine=True, track_running_stats=True)\n",
       "      (5): Dropout(p=0.1)\n",
       "      (6): Linear(in_features=50, out_features=16, bias=True)\n",
       "    )\n",
       "  )\n",
       ")], add_time=True, silent=None)"
      ]
     },
     "execution_count": 38,
     "metadata": {},
     "output_type": "execute_result"
    }
   ],
   "source": [
    "classifier.save('first')\n",
    "classifier.load('first')"
   ]
  },
  {
   "cell_type": "code",
   "execution_count": null,
   "metadata": {},
   "outputs": [
    {
     "data": {
      "text/html": [
       "<table border=\"1\" class=\"dataframe\">\n",
       "  <thead>\n",
       "    <tr style=\"text-align: left;\">\n",
       "      <th>epoch</th>\n",
       "      <th>train_loss</th>\n",
       "      <th>valid_loss</th>\n",
       "      <th>accuracy</th>\n",
       "      <th>time</th>\n",
       "    </tr>\n",
       "  </thead>\n",
       "  <tbody>\n",
       "    <tr>\n",
       "      <td>0</td>\n",
       "      <td>2.447389</td>\n",
       "      <td>3.230500</td>\n",
       "      <td>0.188343</td>\n",
       "      <td>03:33</td>\n",
       "    </tr>\n",
       "  </tbody>\n",
       "</table>"
      ],
      "text/plain": [
       "<IPython.core.display.HTML object>"
      ]
     },
     "metadata": {},
     "output_type": "display_data"
    }
   ],
   "source": [
    "classifier.freeze_to(-2)\n",
    "classifier.fit_one_cycle(1, slice(1e-2/(2.6**4),1e-2), moms=(0.8,0.7))"
   ]
  },
  {
   "cell_type": "code",
   "execution_count": null,
   "metadata": {},
   "outputs": [],
   "source": [
    "classifier.save('second')"
   ]
  },
  {
   "cell_type": "code",
   "execution_count": null,
   "metadata": {},
   "outputs": [],
   "source": [
    "classifier.load('second');"
   ]
  },
  {
   "cell_type": "code",
   "execution_count": null,
   "metadata": {},
   "outputs": [
    {
     "data": {
      "text/html": [
       "<table border=\"1\" class=\"dataframe\">\n",
       "  <thead>\n",
       "    <tr style=\"text-align: left;\">\n",
       "      <th>epoch</th>\n",
       "      <th>train_loss</th>\n",
       "      <th>valid_loss</th>\n",
       "      <th>accuracy</th>\n",
       "      <th>time</th>\n",
       "    </tr>\n",
       "  </thead>\n",
       "  <tbody>\n",
       "    <tr>\n",
       "      <td>0</td>\n",
       "      <td>2.344563</td>\n",
       "      <td>3.625040</td>\n",
       "      <td>0.175391</td>\n",
       "      <td>04:21</td>\n",
       "    </tr>\n",
       "  </tbody>\n",
       "</table>"
      ],
      "text/plain": [
       "<IPython.core.display.HTML object>"
      ]
     },
     "metadata": {},
     "output_type": "display_data"
    }
   ],
   "source": [
    "classifier.freeze_to(-3)\n",
    "classifier.fit_one_cycle(1, slice(5e-3/(2.6**4),5e-3), moms=(0.8,0.7))"
   ]
  },
  {
   "cell_type": "code",
   "execution_count": null,
   "metadata": {},
   "outputs": [],
   "source": [
    "classifier.save('third')"
   ]
  },
  {
   "cell_type": "code",
   "execution_count": null,
   "metadata": {},
   "outputs": [
    {
     "data": {
      "text/plain": [
       "RNNLearner(data=TextClasDataBunch;\n",
       "\n",
       "Train: LabelList (7410 items)\n",
       "x: TextList\n",
       "xxbos xxmaj getting lost in time ? xxmaj does anyone else here lose track of time super easily ? \n",
       " \n",
       "  xxmaj if i 'm interested in something i 'm researching or i find a place to walk around etc . i feel like day spills into night without my noticing .. there 's just not enough hours . xxmaj and it 's so hard to go to bed before 3 am so maybe it 's a sleep schedule thing too ?,xxbos xxmaj anyone dealing with anger issues ? xxmaj how do you guys have dealt or are dealing with this types of emotions ? \n",
       " \n",
       "  xxmaj recently i 've been feeling angrier than normal , a growing pain product of being powerless and without options for my personal and financial growth . xxmaj its getting so bad i get angry at the slightest , tiniest inconvenience i encounter in my life . \n",
       " \n",
       "  xxmaj to give some backstory i had to move out of my country because it was unbearable to live there and now i am in a new place full of opportunities , but opportunities which i ca n't take right now thanks to the fact that i do n't have much money and i 'm a new xxunk . xxmaj been struggling also to get a fair decent job to start with something but never passed the selection process , so i have to live by with shitty jobs which pays nothing at all and work hours are around 10 to 12 hours the day . i think the anger is the result of the frustration i feel deep inside of me thanks to the fact i ca n't achieve anything important or relevant . \n",
       " \n",
       "  xxmaj pardon me any typo or grammar error and thank you for reading . \n",
       " \n",
       "  ​,xxbos i xxup despise romance : s pls comment xxmaj this is really getting old folks . i can not count the stream of people that have turned out to be disingenuous , xxunk to my values , or just completely xxunk . xxmaj just again , tonight , i ’ve had to cut all the strings to someone i liked because this person lied to me . i will only take maybe one lie , two xxunk , otherwise my heart has become way too callous to be lenient . xxmaj it upsets me over and over again to have to cut so many people out , but i know that i can not make the same mistake twice by keeping them around . xxmaj it makes me all so weary and i ’m thinking it is maybe time to get a therapist . xxmaj maybe it ’s hurtful to myself to keep cutting out these xxunk , but i also wonder how a therapist could tell me to improve when i know best what my own standards are ... \n",
       " \n",
       "  xxmaj is this the case for any other s out there ? xxmaj are we just too selective ? xxmaj or is the barren xxunk of potential mates just something we need to get used to ?,xxbos xxmaj any out there that attract depressed / anxious people ? i am an and i 've noticed that the girls who are attracted to me are often depressed and have high anxiety . i 've dated girls with xxunk , depression , and bi polar disorder . i have lots of friends who are not depressed but i feel like depressed people are drawn to me and open up to me way faster than i am comfortable with . i just met a depressed and she told me about her depression and anxiety within 10 minutes of our first conversation . xxmaj sorry if this blurb did n't flow very well ... .,xxbos xxmaj addicted to absorbing knowledge as an xxmaj anyone else feel like they are addicted to learning , no matter what it may be about ? i feel like i could read about anything for hours but the only flaw is when i am made to learn something against my will ( xxmaj university , school , etc . ) even if it 's something i already am interested in , i lose all motivation to do it .\n",
       "y: CategoryList\n",
       "enfp,entj,entj,estp,entj\n",
       "Path: .;\n",
       "\n",
       "Valid: LabelList (1853 items)\n",
       "x: TextList\n",
       "xxbos xxmaj anyone else feel like they ’re not really all that creative ? / title \n",
       " \n",
       "  i ’ve had people tell me i ’m creative , but i ’m not really inclined to believe them . i do n’t really feel like i fit the archetype of shitting out constant streams of xxunk and xxunk ideas / inventions around the clock . xxmaj sure , i might have a good idea every now and then , but it never really seems to be that big of an idea and it usually is n’t that “ out there . ” i ca n’t imagine just coming up with plethora of new ideas every second of the day . i also feel like this level of xxunk comes more with understanding of a subject than anything . \n",
       " \n",
       "  xxmaj similarly , i sometimes find it hard to just sit down and “ brainstorm . ” i also take stimulants for xxup adhd , so that may also be part of it . \n",
       " \n",
       "  xxmaj yes , i know that the xxup mbti boxes are xxunk and are not definitive . xxmaj but for the sake of argument , does anyone else feel like this ?,xxbos xxmaj what the fuck is going on with life ? i do n't even know what i 'm doing with it , and for what . xxmaj one moment i aspire to start a business or get a fancy degree but the next moment i find myself being lazy because what for is it ? xxmaj and then i do n't even know why would i want it . xxmaj no job , no new city or new country or new things wo n't make me change what i 'm feeling . xxmaj the only meaning i see in life is to make the most of it , and experience things you want to , because what else makes sense ? xxmaj anyone else is confused too ?,xxbos xxmaj sometimes i browse this sub to fall in a love for a little while ( here ) xxmaj that 's all i had to say ! xxmaj keep being you !,xxbos xxmaj the best way to break up with an ? i 've tried to make it work . xxmaj but i 'm an and he gets so angry with me . xxmaj now i just want it to end peacefully and amicably . xxmaj any advice ?,xxbos xxmaj which type do n’t you get along with ? xxmaj hi there s , \n",
       " \n",
       "  xxmaj so i was wondering , which types do n’t you guys usually get along with ? i get along with most types , albeit maybe a little xxunk . i struggle with people who place an importance on xxmaj extraverted xxmaj thinking ( xxmaj te ) . xxmaj these types include s , s , s , and s. i get along with the intuitive types better , but i still find them insensitive of others’ feelings . \n",
       " \n",
       "  xxmaj what do you guys think ?\n",
       "y: CategoryList\n",
       "entp,entp,enfj,estj,enfj\n",
       "Path: .;\n",
       "\n",
       "Test: None, model=SequentialRNN(\n",
       "  (0): MultiBatchEncoder(\n",
       "    (module): AWD_LSTM(\n",
       "      (encoder): Embedding(15280, 400, padding_idx=1)\n",
       "      (encoder_dp): EmbeddingDropout(\n",
       "        (emb): Embedding(15280, 400, padding_idx=1)\n",
       "      )\n",
       "      (rnns): ModuleList(\n",
       "        (0): WeightDropout(\n",
       "          (module): LSTM(400, 1152, batch_first=True)\n",
       "        )\n",
       "        (1): WeightDropout(\n",
       "          (module): LSTM(1152, 1152, batch_first=True)\n",
       "        )\n",
       "        (2): WeightDropout(\n",
       "          (module): LSTM(1152, 400, batch_first=True)\n",
       "        )\n",
       "      )\n",
       "      (input_dp): RNNDropout()\n",
       "      (hidden_dps): ModuleList(\n",
       "        (0): RNNDropout()\n",
       "        (1): RNNDropout()\n",
       "        (2): RNNDropout()\n",
       "      )\n",
       "    )\n",
       "  )\n",
       "  (1): PoolingLinearClassifier(\n",
       "    (layers): Sequential(\n",
       "      (0): BatchNorm1d(1200, eps=1e-05, momentum=0.1, affine=True, track_running_stats=True)\n",
       "      (1): Dropout(p=0.2)\n",
       "      (2): Linear(in_features=1200, out_features=50, bias=True)\n",
       "      (3): ReLU(inplace)\n",
       "      (4): BatchNorm1d(50, eps=1e-05, momentum=0.1, affine=True, track_running_stats=True)\n",
       "      (5): Dropout(p=0.1)\n",
       "      (6): Linear(in_features=50, out_features=16, bias=True)\n",
       "    )\n",
       "  )\n",
       "), opt_func=functools.partial(<class 'torch.optim.adam.Adam'>, betas=(0.9, 0.99)), loss_func=FlattenedLoss of CrossEntropyLoss(), metrics=[<function accuracy at 0x7f57f209e9d8>], true_wd=True, bn_wd=True, wd=0.01, train_bn=True, path=PosixPath('.'), model_dir='models', callback_fns=[functools.partial(<class 'fastai.basic_train.Recorder'>, add_time=True, silent=False)], callbacks=[RNNTrainer\n",
       "learn: ...\n",
       "alpha: 2.0\n",
       "beta: 1.0], layer_groups=[Sequential(\n",
       "  (0): Embedding(15280, 400, padding_idx=1)\n",
       "  (1): EmbeddingDropout(\n",
       "    (emb): Embedding(15280, 400, padding_idx=1)\n",
       "  )\n",
       "), Sequential(\n",
       "  (0): WeightDropout(\n",
       "    (module): LSTM(400, 1152, batch_first=True)\n",
       "  )\n",
       "  (1): RNNDropout()\n",
       "), Sequential(\n",
       "  (0): WeightDropout(\n",
       "    (module): LSTM(1152, 1152, batch_first=True)\n",
       "  )\n",
       "  (1): RNNDropout()\n",
       "), Sequential(\n",
       "  (0): WeightDropout(\n",
       "    (module): LSTM(1152, 400, batch_first=True)\n",
       "  )\n",
       "  (1): RNNDropout()\n",
       "), Sequential(\n",
       "  (0): PoolingLinearClassifier(\n",
       "    (layers): Sequential(\n",
       "      (0): BatchNorm1d(1200, eps=1e-05, momentum=0.1, affine=True, track_running_stats=True)\n",
       "      (1): Dropout(p=0.2)\n",
       "      (2): Linear(in_features=1200, out_features=50, bias=True)\n",
       "      (3): ReLU(inplace)\n",
       "      (4): BatchNorm1d(50, eps=1e-05, momentum=0.1, affine=True, track_running_stats=True)\n",
       "      (5): Dropout(p=0.1)\n",
       "      (6): Linear(in_features=50, out_features=16, bias=True)\n",
       "    )\n",
       "  )\n",
       ")], add_time=True, silent=None)"
      ]
     },
     "execution_count": 44,
     "metadata": {},
     "output_type": "execute_result"
    }
   ],
   "source": [
    "classifier.load('third')"
   ]
  },
  {
   "cell_type": "code",
   "execution_count": null,
   "metadata": {},
   "outputs": [
    {
     "data": {
      "text/html": [
       "<table border=\"1\" class=\"dataframe\">\n",
       "  <thead>\n",
       "    <tr style=\"text-align: left;\">\n",
       "      <th>epoch</th>\n",
       "      <th>train_loss</th>\n",
       "      <th>valid_loss</th>\n",
       "      <th>accuracy</th>\n",
       "      <th>time</th>\n",
       "    </tr>\n",
       "  </thead>\n",
       "  <tbody>\n",
       "    <tr>\n",
       "      <td>0</td>\n",
       "      <td>2.274064</td>\n",
       "      <td>5.780402</td>\n",
       "      <td>0.179709</td>\n",
       "      <td>05:16</td>\n",
       "    </tr>\n",
       "    <tr>\n",
       "      <td>1</td>\n",
       "      <td>2.110095</td>\n",
       "      <td>2.812943</td>\n",
       "      <td>0.189962</td>\n",
       "      <td>05:15</td>\n",
       "    </tr>\n",
       "    <tr>\n",
       "      <td>2</td>\n",
       "      <td>2.055769</td>\n",
       "      <td>2.632486</td>\n",
       "      <td>0.202375</td>\n",
       "      <td>05:16</td>\n",
       "    </tr>\n",
       "  </tbody>\n",
       "</table>"
      ],
      "text/plain": [
       "<IPython.core.display.HTML object>"
      ]
     },
     "metadata": {},
     "output_type": "display_data"
    }
   ],
   "source": [
    "classifier.unfreeze()\n",
    "classifier.fit_one_cycle(3, slice(1e-3/(2.6**4),1e-3), moms=(0.8,0.7))"
   ]
  },
  {
   "cell_type": "code",
   "execution_count": null,
   "metadata": {},
   "outputs": [],
   "source": [
    "classifier.save('final')"
   ]
  },
  {
   "cell_type": "code",
   "execution_count": null,
   "metadata": {},
   "outputs": [],
   "source": [
    "classifier.recorder.plot_losses()"
   ]
  },
  {
   "cell_type": "code",
   "execution_count": null,
   "metadata": {},
   "outputs": [],
   "source": [
    "from fastai.vision import *\n",
    "interp = ClassificationInterpretation.from_learner(classifier)"
   ]
  },
  {
   "cell_type": "code",
   "execution_count": null,
   "metadata": {},
   "outputs": [],
   "source": [
    "interp.plot_confusion_matrix()"
   ]
  },
  {
   "cell_type": "code",
   "execution_count": null,
   "metadata": {},
   "outputs": [],
   "source": [
    "interp.most_confused()[:5]\n"
   ]
  },
  {
   "cell_type": "code",
   "execution_count": null,
   "metadata": {},
   "outputs": [],
   "source": [
    "classifier.predict(\"\")"
   ]
  },
  {
   "cell_type": "code",
   "execution_count": 51,
   "metadata": {},
   "outputs": [],
   "source": [
    "# export the file\n",
    "classifier.export()"
   ]
  },
  {
   "cell_type": "code",
   "execution_count": null,
   "metadata": {},
   "outputs": [],
   "source": []
  }
 ],
 "metadata": {
  "kernelspec": {
   "display_name": "Python 3",
   "language": "python",
   "name": "python3"
  },
  "language_info": {
   "codemirror_mode": {
    "name": "ipython",
    "version": 3
   },
   "file_extension": ".py",
   "mimetype": "text/x-python",
   "name": "python",
   "nbconvert_exporter": "python",
   "pygments_lexer": "ipython3",
   "version": "3.7.3"
  }
 },
 "nbformat": 4,
 "nbformat_minor": 2
}
